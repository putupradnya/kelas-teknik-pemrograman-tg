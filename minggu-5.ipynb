{
 "cells": [
  {
   "cell_type": "code",
   "execution_count": 4,
   "metadata": {},
   "outputs": [],
   "source": [
    "class Mahasiswa:\n",
    "    def __init__(self, nama, nim):\n",
    "        self.nama = nama\n",
    "        self.nim = nim\n",
    "\n",
    "m1 = Mahasiswa(\"putu pradnya\", \"12115017\")\n"
   ]
  },
  {
   "cell_type": "code",
   "execution_count": 7,
   "metadata": {},
   "outputs": [
    {
     "name": "stdout",
     "output_type": "stream",
     "text": [
      "putu pradnya\n",
      "12115017\n"
     ]
    }
   ],
   "source": [
    "print(m1.nama)\n",
    "print(m1.nim)"
   ]
  },
  {
   "cell_type": "code",
   "execution_count": 8,
   "metadata": {},
   "outputs": [
    {
     "data": {
      "text/plain": [
       "<__main__.mahasiswi at 0x1049888d0>"
      ]
     },
     "execution_count": 8,
     "metadata": {},
     "output_type": "execute_result"
    }
   ],
   "source": [
    "class mahasiswi:\n",
    "    def greeting(self, nama, nim):\n",
    "        self.nama = nama\n",
    "        self.nim = nim\n",
    "\n",
    "\n",
    "mahasiswi()"
   ]
  },
  {
   "cell_type": "code",
   "execution_count": 14,
   "metadata": {},
   "outputs": [],
   "source": [
    "class PersegiPanjang:\n",
    "    def __init__(self, panjang, lebar):\n",
    "        self.panjang = panjang\n",
    "        self.lebar = lebar\n",
    "\n",
    "    def luas(self):\n",
    "        return self.panjang * self.lebar\n"
   ]
  },
  {
   "cell_type": "code",
   "execution_count": 15,
   "metadata": {},
   "outputs": [
    {
     "data": {
      "text/plain": [
       "10"
      ]
     },
     "execution_count": 15,
     "metadata": {},
     "output_type": "execute_result"
    }
   ],
   "source": [
    "pp = PersegiPanjang(10, 5)\n",
    "pp.panjang\n"
   ]
  },
  {
   "cell_type": "code",
   "execution_count": 16,
   "metadata": {},
   "outputs": [
    {
     "data": {
      "text/plain": [
       "5"
      ]
     },
     "execution_count": 16,
     "metadata": {},
     "output_type": "execute_result"
    }
   ],
   "source": [
    "pp.lebar"
   ]
  },
  {
   "cell_type": "code",
   "execution_count": 17,
   "metadata": {},
   "outputs": [
    {
     "name": "stdout",
     "output_type": "stream",
     "text": [
      "Luas: 50\n"
     ]
    }
   ],
   "source": [
    "print(\"Luas:\", pp.luas())"
   ]
  },
  {
   "cell_type": "code",
   "execution_count": 26,
   "metadata": {},
   "outputs": [],
   "source": [
    "class RekeningBank:\n",
    "    def __init__(self, pemilik, saldo):\n",
    "        self.pemilik = pemilik\n",
    "        self.__saldo = saldo   # atribut private\n",
    "\n",
    "    def lihat_saldo(self):\n",
    "        return f\"Saldo {self.pemilik}: Rp{self.__saldo}\"\n",
    "\n",
    "    def setor(self, jumlah):\n",
    "        self.__saldo += jumlah\n",
    "\n",
    "    def tarik(self, jumlah):\n",
    "        if jumlah <= self.__saldo:\n",
    "            self.__saldo -= jumlah\n",
    "        else:\n",
    "            print(\"Saldo tidak cukup\")\n",
    "\n",
    "\n"
   ]
  },
  {
   "cell_type": "code",
   "execution_count": 27,
   "metadata": {},
   "outputs": [],
   "source": [
    "r1 = RekeningBank(\"Dina\", 1000000)\n"
   ]
  },
  {
   "cell_type": "code",
   "execution_count": 25,
   "metadata": {},
   "outputs": [
    {
     "ename": "AttributeError",
     "evalue": "'RekeningBank' object has no attribute '__pemilik'",
     "output_type": "error",
     "traceback": [
      "\u001b[0;31m---------------------------------------------------------------------------\u001b[0m",
      "\u001b[0;31mAttributeError\u001b[0m                            Traceback (most recent call last)",
      "Cell \u001b[0;32mIn[25], line 1\u001b[0m\n\u001b[0;32m----> 1\u001b[0m \u001b[43mr1\u001b[49m\u001b[38;5;241;43m.\u001b[39;49m\u001b[43m__pemilik\u001b[49m\n",
      "\u001b[0;31mAttributeError\u001b[0m: 'RekeningBank' object has no attribute '__pemilik'"
     ]
    }
   ],
   "source": [
    "r1.__pemilik"
   ]
  },
  {
   "cell_type": "code",
   "execution_count": 21,
   "metadata": {},
   "outputs": [
    {
     "ename": "AttributeError",
     "evalue": "'RekeningBank' object has no attribute '__saldo'",
     "output_type": "error",
     "traceback": [
      "\u001b[0;31m---------------------------------------------------------------------------\u001b[0m",
      "\u001b[0;31mAttributeError\u001b[0m                            Traceback (most recent call last)",
      "Cell \u001b[0;32mIn[21], line 1\u001b[0m\n\u001b[0;32m----> 1\u001b[0m \u001b[43mr1\u001b[49m\u001b[38;5;241;43m.\u001b[39;49m\u001b[43m__saldo\u001b[49m\n",
      "\u001b[0;31mAttributeError\u001b[0m: 'RekeningBank' object has no attribute '__saldo'"
     ]
    }
   ],
   "source": [
    "r1.__saldo"
   ]
  },
  {
   "cell_type": "code",
   "execution_count": 28,
   "metadata": {},
   "outputs": [
    {
     "name": "stdout",
     "output_type": "stream",
     "text": [
      "Saldo Dina: Rp1000000\n",
      "Saldo Dina: Rp500000\n"
     ]
    }
   ],
   "source": [
    "print(r1.lihat_saldo())\n",
    "r1.tarik(500000)\n",
    "print(r1.lihat_saldo())"
   ]
  },
  {
   "cell_type": "code",
   "execution_count": 29,
   "metadata": {},
   "outputs": [],
   "source": [
    "# Parent Class\n",
    "class Kendaraan:\n",
    "    def __init__(self, merk, tahun):\n",
    "        self.merk = merk\n",
    "        self.tahun = tahun\n",
    "    \n",
    "    def info(self):\n",
    "        return f\"{self.merk}, {self.tahun}\"\n"
   ]
  },
  {
   "cell_type": "code",
   "execution_count": 32,
   "metadata": {},
   "outputs": [],
   "source": [
    "# Child Class\n",
    "class Mobil(Kendaraan):\n",
    "    def __init__(self, merk, tahun, jumlah_pintu):\n",
    "        super().__init__(merk, tahun)   # memanggil konstruktor parent\n",
    "        self.jumlah_pintu = jumlah_pintu\n",
    "    \n",
    "    # Override method info()\n",
    "    def info(self):\n",
    "        return f\"Mobil {self.merk}, Tahun {self.tahun}, Pintu: {self.jumlah_pintu}\"\n"
   ]
  },
  {
   "cell_type": "code",
   "execution_count": 33,
   "metadata": {},
   "outputs": [],
   "source": [
    "car = Mobil(\"Toyota\", 2022, 4)"
   ]
  },
  {
   "cell_type": "code",
   "execution_count": 34,
   "metadata": {},
   "outputs": [
    {
     "data": {
      "text/plain": [
       "'Mobil Toyota, Tahun 2022, Pintu: 4'"
      ]
     },
     "execution_count": 34,
     "metadata": {},
     "output_type": "execute_result"
    }
   ],
   "source": [
    "car.info()"
   ]
  },
  {
   "cell_type": "code",
   "execution_count": 35,
   "metadata": {},
   "outputs": [],
   "source": [
    "class Car:\n",
    "  def __init__(self, brand, model):\n",
    "    self.brand = brand\n",
    "    self.model = model\n",
    "\n",
    "  def move(self):\n",
    "    print(\"Drive!\")\n",
    "\n",
    "class Boat:\n",
    "  def __init__(self, brand, model):\n",
    "    self.brand = brand\n",
    "    self.model = model\n",
    "\n",
    "  def move(self):\n",
    "    print(\"Sail!\")\n",
    "\n",
    "class Plane:\n",
    "  def __init__(self, brand, model):\n",
    "    self.brand = brand\n",
    "    self.model = model\n",
    "\n",
    "  def move(self):\n",
    "    print(\"Fly!\")\n",
    "\n",
    "car1 = Car(\"Ford\", \"Mustang\")       #Create a Car object\n",
    "boat1 = Boat(\"Ibiza\", \"Touring 20\") #Create a Boat object\n",
    "plane1 = Plane(\"Boeing\", \"747\")     #Create a Plane object\n"
   ]
  },
  {
   "cell_type": "code",
   "execution_count": 40,
   "metadata": {},
   "outputs": [
    {
     "name": "stdout",
     "output_type": "stream",
     "text": [
      "Drive!\n",
      "Sail!\n",
      "Fly!\n"
     ]
    }
   ],
   "source": [
    "for x in (car1, boat1, plane1):\n",
    "  x.move()"
   ]
  },
  {
   "cell_type": "code",
   "execution_count": null,
   "metadata": {},
   "outputs": [],
   "source": [
    "from abc import ABC, abstractmethod\n",
    "\n",
    "class Animal(ABC):\n",
    "    @abstractmethod\n",
    "    def sound(self):\n",
    "        pass \n",
    "\n",
    "class Dog(Animal):\n",
    "    def sound(self):\n",
    "        return \"Bark\"\n",
    "\n",
    "dog = Dog()\n",
    "print(dog.sound())\n"
   ]
  },
  {
   "cell_type": "code",
   "execution_count": 47,
   "metadata": {},
   "outputs": [
    {
     "name": "stdout",
     "output_type": "stream",
     "text": [
      "Station: ST01, Sampel: 4,  Waktu: [0, 1, 2, 3]\n"
     ]
    }
   ],
   "source": [
    "class Seismogram:\n",
    "    def __init__(self, station, amplitudo, waktu):\n",
    "        self.station = station\n",
    "        self.amplitudo = amplitudo\n",
    "        self.waktu = waktu\n",
    "        self.description = \"Seismogram Amplitudo: \"\n",
    "\n",
    "    def info(self):\n",
    "        return f\"Station: {self.station}, Sampel: {len(self.amplitudo)},  Waktu: {self.waktu}\"\n",
    "\n",
    "    def max_amp(self):\n",
    "        print(self.description)\n",
    "        return max(self.amplitudo)\n",
    "\n",
    "data = Seismogram(\"ST01\", [0.1, 0.5, 1.2, 0.8], [0, 1, 2, 3])\n",
    "print(data.info())\n",
    "\n"
   ]
  },
  {
   "cell_type": "code",
   "execution_count": 49,
   "metadata": {},
   "outputs": [
    {
     "name": "stdout",
     "output_type": "stream",
     "text": [
      "Seismogram Amplitudo: \n",
      "1.2\n"
     ]
    }
   ],
   "source": [
    "print(data.max_amp())"
   ]
  },
  {
   "cell_type": "code",
   "execution_count": null,
   "metadata": {},
   "outputs": [],
   "source": []
  },
  {
   "cell_type": "code",
   "execution_count": null,
   "metadata": {},
   "outputs": [],
   "source": [
    "def info(station, amplitudo):\n",
    "        return f\"Station: {station}, Sampel: {len(amplitudo)}\"\n",
    "\n",
    "def max_amp(amplitudo):\n",
    "    return max(amplitudo)"
   ]
  },
  {
   "cell_type": "code",
   "execution_count": null,
   "metadata": {},
   "outputs": [],
   "source": [
    "# fungsi calculator\n",
    "def penjumlahan(a, b):\n",
    "    return a + b\n",
    "\n",
    "def pembagian(a, b):\n",
    "    return a / b\n",
    "\n",
    "def perkalian(a, b):\n",
    "    return a * b\n",
    "\n",
    "def pengurangan(a, b):\n",
    "    return a - b"
   ]
  },
  {
   "cell_type": "code",
   "execution_count": 50,
   "metadata": {},
   "outputs": [
    {
     "name": "stdout",
     "output_type": "stream",
     "text": [
      "Data Seismik 20 Hz di Sumatera (2024)\n",
      "Data Gravitasi anomali rata-rata 50.25 mGal\n"
     ]
    }
   ],
   "source": [
    "class DataGeofisika:\n",
    "    def __init__(self, lokasi, tahun):\n",
    "        self.lokasi = lokasi\n",
    "        self.tahun = tahun\n",
    "\n",
    "    def deskripsi(self):\n",
    "        return f\"Data geofisika {self.lokasi} ({self.tahun})\"\n",
    "\n",
    "class DataSeismik(DataGeofisika):\n",
    "    def __init__(self, lokasi, tahun, frekuensi):\n",
    "        super().__init__(lokasi, tahun)\n",
    "        self.frekuensi = frekuensi\n",
    "\n",
    "    def deskripsi(self):\n",
    "        return f\"Data Seismik {self.frekuensi} Hz di {self.lokasi} ({self.tahun})\"\n",
    "\n",
    "class DataGravitasi(DataGeofisika):\n",
    "    def __init__(self, lokasi, tahun, anomali):\n",
    "        super().__init__(lokasi, tahun)\n",
    "        self.anomali = anomali\n",
    "\n",
    "    def deskripsi(self):\n",
    "        return f\"Data Gravitasi anomali rata-rata {sum(self.anomali)/len(self.anomali):.2f} mGal\"\n",
    "\n",
    "d1 = DataSeismik(\"Sumatera\", 2024, 20)\n",
    "d2 = DataGravitasi(\"Papua\", 2023, [50, 52, 48, 51])\n",
    "print(d1.deskripsi())\n",
    "print(d2.deskripsi())"
   ]
  },
  {
   "cell_type": "code",
   "execution_count": null,
   "metadata": {},
   "outputs": [],
   "source": []
  }
 ],
 "metadata": {
  "kernelspec": {
   "display_name": "Python 3",
   "language": "python",
   "name": "python3"
  },
  "language_info": {
   "codemirror_mode": {
    "name": "ipython",
    "version": 3
   },
   "file_extension": ".py",
   "mimetype": "text/x-python",
   "name": "python",
   "nbconvert_exporter": "python",
   "pygments_lexer": "ipython3",
   "version": "3.11.10"
  }
 },
 "nbformat": 4,
 "nbformat_minor": 2
}
