{
 "cells": [
  {
   "cell_type": "code",
   "execution_count": 2,
   "metadata": {},
   "outputs": [
    {
     "name": "stdout",
     "output_type": "stream",
     "text": [
      "[1, 2, 3, 4, 5]\n"
     ]
    }
   ],
   "source": [
    "#List\n",
    "\n",
    "angka = [1, 2, 3, 4, 5]\n",
    "print(angka)"
   ]
  },
  {
   "cell_type": "code",
   "execution_count": 3,
   "metadata": {},
   "outputs": [
    {
     "data": {
      "text/plain": [
       "5"
      ]
     },
     "execution_count": 3,
     "metadata": {},
     "output_type": "execute_result"
    }
   ],
   "source": [
    "len(angka)"
   ]
  },
  {
   "cell_type": "code",
   "execution_count": 6,
   "metadata": {},
   "outputs": [
    {
     "data": {
      "text/plain": [
       "5"
      ]
     },
     "execution_count": 6,
     "metadata": {},
     "output_type": "execute_result"
    }
   ],
   "source": [
    "angka[-1]"
   ]
  },
  {
   "cell_type": "code",
   "execution_count": 10,
   "metadata": {},
   "outputs": [
    {
     "name": "stdout",
     "output_type": "stream",
     "text": [
      "<class 'int'>\n",
      "<class 'str'>\n",
      "<class 'int'>\n",
      "<class 'str'>\n",
      "<class 'int'>\n"
     ]
    }
   ],
   "source": [
    "campuran = [1, \"dua\", 3, \"empat\", 5]\n",
    "\n",
    "for i in campuran:\n",
    "    print(type(i))"
   ]
  },
  {
   "cell_type": "code",
   "execution_count": 11,
   "metadata": {},
   "outputs": [
    {
     "name": "stdout",
     "output_type": "stream",
     "text": [
      "[1, 'dua', 3, 'empat', 5, 6]\n"
     ]
    }
   ],
   "source": [
    "campuran.append(6)\n",
    "print(campuran)"
   ]
  },
  {
   "cell_type": "code",
   "execution_count": 12,
   "metadata": {},
   "outputs": [
    {
     "name": "stdout",
     "output_type": "stream",
     "text": [
      "[1, 'dua', 'empat', 5, 6]\n"
     ]
    }
   ],
   "source": [
    "campuran.remove(3)\n",
    "print(campuran)"
   ]
  },
  {
   "cell_type": "code",
   "execution_count": 13,
   "metadata": {},
   "outputs": [
    {
     "data": {
      "text/plain": [
       "1"
      ]
     },
     "execution_count": 13,
     "metadata": {},
     "output_type": "execute_result"
    }
   ],
   "source": [
    "campuran.count(1)"
   ]
  },
  {
   "cell_type": "code",
   "execution_count": 14,
   "metadata": {},
   "outputs": [
    {
     "name": "stdout",
     "output_type": "stream",
     "text": [
      "[1, 'dua', 'empat', 5, 6, 1]\n"
     ]
    }
   ],
   "source": [
    "campuran.append(1)\n",
    "print(campuran)"
   ]
  },
  {
   "cell_type": "code",
   "execution_count": 15,
   "metadata": {},
   "outputs": [
    {
     "data": {
      "text/plain": [
       "2"
      ]
     },
     "execution_count": 15,
     "metadata": {},
     "output_type": "execute_result"
    }
   ],
   "source": [
    "campuran.count(1)"
   ]
  },
  {
   "cell_type": "code",
   "execution_count": 16,
   "metadata": {},
   "outputs": [
    {
     "name": "stdout",
     "output_type": "stream",
     "text": [
      "[1, 'dua', 'empat', 5, 6, 1, True]\n"
     ]
    }
   ],
   "source": [
    "campuran.append(True)\n",
    "print(campuran)"
   ]
  },
  {
   "cell_type": "code",
   "execution_count": 17,
   "metadata": {},
   "outputs": [
    {
     "name": "stdout",
     "output_type": "stream",
     "text": [
      "<class 'int'>\n",
      "<class 'str'>\n",
      "<class 'str'>\n",
      "<class 'int'>\n",
      "<class 'int'>\n",
      "<class 'int'>\n",
      "<class 'bool'>\n"
     ]
    }
   ],
   "source": [
    "for i in campuran:\n",
    "    print(type(i))"
   ]
  },
  {
   "cell_type": "code",
   "execution_count": 18,
   "metadata": {},
   "outputs": [
    {
     "data": {
      "text/plain": [
       "7"
      ]
     },
     "execution_count": 18,
     "metadata": {},
     "output_type": "execute_result"
    }
   ],
   "source": [
    "len(campuran)"
   ]
  },
  {
   "cell_type": "code",
   "execution_count": 20,
   "metadata": {},
   "outputs": [
    {
     "name": "stdout",
     "output_type": "stream",
     "text": [
      "[1, 'Sebilan', 'dua', 'empat', 5, 6, 1, True]\n"
     ]
    }
   ],
   "source": [
    "campuran.insert(1,\"Sebilan\")\n",
    "print(campuran)"
   ]
  },
  {
   "cell_type": "code",
   "execution_count": 27,
   "metadata": {},
   "outputs": [
    {
     "data": {
      "text/plain": [
       "[5, 4, 3, 2, 1, 0, 0]"
      ]
     },
     "execution_count": 27,
     "metadata": {},
     "output_type": "execute_result"
    }
   ],
   "source": [
    "# angka.insert(3, 0)\n",
    "angka.reverse()\n",
    "angka"
   ]
  },
  {
   "cell_type": "code",
   "execution_count": 25,
   "metadata": {},
   "outputs": [
    {
     "name": "stdout",
     "output_type": "stream",
     "text": [
      "[1, 'Sebilan', 'dua', 'empat', 5, 6, 1, True]\n"
     ]
    }
   ],
   "source": [
    "angka.reverse()\n",
    "print(campuran)"
   ]
  },
  {
   "cell_type": "code",
   "execution_count": 35,
   "metadata": {},
   "outputs": [
    {
     "data": {
      "text/plain": [
       "[5, 4, 3, 2, 1, 0, 0]"
      ]
     },
     "execution_count": 35,
     "metadata": {},
     "output_type": "execute_result"
    }
   ],
   "source": [
    "angka"
   ]
  },
  {
   "cell_type": "code",
   "execution_count": 42,
   "metadata": {},
   "outputs": [
    {
     "data": {
      "text/plain": [
       "[5, 2, 0]"
      ]
     },
     "execution_count": 42,
     "metadata": {},
     "output_type": "execute_result"
    }
   ],
   "source": [
    "angka[::3]"
   ]
  },
  {
   "cell_type": "code",
   "execution_count": 32,
   "metadata": {},
   "outputs": [
    {
     "name": "stdout",
     "output_type": "stream",
     "text": [
      "0\n",
      "1\n",
      "2\n",
      "3\n",
      "4\n",
      "5\n",
      "6\n",
      "7\n",
      "8\n",
      "9\n"
     ]
    }
   ],
   "source": [
    "for i in range(10):\n",
    "    print(i)"
   ]
  },
  {
   "cell_type": "code",
   "execution_count": 44,
   "metadata": {},
   "outputs": [
    {
     "name": "stdout",
     "output_type": "stream",
     "text": [
      "<class 'tuple'>\n"
     ]
    }
   ],
   "source": [
    "# tuple\n",
    "data = (1, 10, 2, 5, 3)\n",
    "print(type(data))"
   ]
  },
  {
   "cell_type": "code",
   "execution_count": 48,
   "metadata": {},
   "outputs": [
    {
     "data": {
      "text/plain": [
       "3"
      ]
     },
     "execution_count": 48,
     "metadata": {},
     "output_type": "execute_result"
    }
   ],
   "source": [
    "data[-1]"
   ]
  },
  {
   "cell_type": "code",
   "execution_count": 51,
   "metadata": {},
   "outputs": [
    {
     "name": "stdout",
     "output_type": "stream",
     "text": [
      "1\n",
      "2\n"
     ]
    }
   ],
   "source": [
    "points = (1, 2, 3)\n",
    "x, y, z = points\n",
    "\n",
    "print(x)\n",
    "print(y)\n"
   ]
  },
  {
   "cell_type": "code",
   "execution_count": 52,
   "metadata": {},
   "outputs": [
    {
     "name": "stdout",
     "output_type": "stream",
     "text": [
      "{1, 2, 3, 4, 5}\n"
     ]
    }
   ],
   "source": [
    "data = {1, 2, 3, 4, 5, 1, 1}\n",
    "print(data)"
   ]
  },
  {
   "cell_type": "code",
   "execution_count": 58,
   "metadata": {},
   "outputs": [
    {
     "data": {
      "text/plain": [
       "{5}"
      ]
     },
     "execution_count": 58,
     "metadata": {},
     "output_type": "execute_result"
    }
   ],
   "source": [
    "data.pop()\n",
    "data"
   ]
  },
  {
   "cell_type": "code",
   "execution_count": 68,
   "metadata": {},
   "outputs": [
    {
     "name": "stdout",
     "output_type": "stream",
     "text": [
      "{'nama': 'Budi Setiawan', 'nim': 12115017, 'prodi': 'teknik geofisika', 'angkatan': 2015}\n"
     ]
    }
   ],
   "source": [
    "mahasiswa = {\n",
    "    \"nama\": \"Budi Setiawan\",\n",
    "    \"nim\": 12115017,\n",
    "    \"prodi\": \"teknik geofisika\",\n",
    "    \"angkatan\": 2015,\n",
    "    \"status\": \"aktif\"\n",
    "}\n",
    "# mahasiswa[\"angkatan\"] = 2020\n",
    "mahasiswa.pop(\"status\")\n",
    "print(mahasiswa)"
   ]
  },
  {
   "cell_type": "code",
   "execution_count": 69,
   "metadata": {},
   "outputs": [
    {
     "name": "stdout",
     "output_type": "stream",
     "text": [
      "nama : Budi Setiawan\n",
      "nim : 12115017\n",
      "prodi : teknik geofisika\n",
      "angkatan : 2015\n"
     ]
    }
   ],
   "source": [
    "for i, v in mahasiswa.items():\n",
    "    print(f\"{i} : {v}\")"
   ]
  },
  {
   "cell_type": "code",
   "execution_count": 78,
   "metadata": {},
   "outputs": [
    {
     "name": "stdout",
     "output_type": "stream",
     "text": [
      "1\n"
     ]
    }
   ],
   "source": [
    "mahasiswa = [\n",
    "    [1, 2], [2, 2], [3, 2]\n",
    "]\n",
    "print(mahasiswa[0][0])"
   ]
  },
  {
   "cell_type": "code",
   "execution_count": 82,
   "metadata": {},
   "outputs": [
    {
     "name": "stdout",
     "output_type": "stream",
     "text": [
      "70\n",
      "90\n",
      "80\n"
     ]
    }
   ],
   "source": [
    "nilai = {\n",
    "    \"andi\": [90, 80, 70],\n",
    "    \"budi\": [80, 70, 90],\n",
    "    \"caca\": [70, 90, 80]\n",
    "}\n",
    "\n",
    "for i in nilai[\"caca\"]:\n",
    "    print(i)\n",
    "# print(nilai[\"caca\"][0])"
   ]
  },
  {
   "cell_type": "code",
   "execution_count": 83,
   "metadata": {},
   "outputs": [],
   "source": [
    "survey = {\n",
    "    \"Survey_A\": [\n",
    "        {\"trace_id\": 1, \"receiver\": \"R1\", \"offset\": 100, \"QC_flag\": \"OK\"},\n",
    "        {\"trace_id\": 2, \"receiver\": \"R2\", \"offset\": 150, \"QC_flag\": \"OK\"},\n",
    "        {\"trace_id\": 3, \"receiver\": \"R3\", \"offset\": 200, \"QC_flag\": \"BAD\"}\n",
    "    ],\n",
    "    \"Survey_B\": [\n",
    "        {\"trace_id\": 4, \"receiver\": \"R1\", \"offset\": 120, \"QC_flag\": \"OK\"},\n",
    "        {\"trace_id\": 5, \"receiver\": \"R4\", \"offset\": 250, \"QC_flag\": \"OK\"},\n",
    "        {\"trace_id\": 6, \"receiver\": \"R2\", \"offset\": 300, \"QC_flag\": \"BAD\"}\n",
    "    ],\n",
    "    \"Survey_C\": [\n",
    "        {\"trace_id\": 7, \"receiver\": \"R5\", \"offset\": 180, \"QC_flag\": \"OK\"}\n",
    "    ]\n",
    "}\n"
   ]
  },
  {
   "cell_type": "code",
   "execution_count": 85,
   "metadata": {},
   "outputs": [
    {
     "name": "stdout",
     "output_type": "stream",
     "text": [
      "dict_keys(['Survey_A', 'Survey_B', 'Survey_C'])\n"
     ]
    }
   ],
   "source": [
    "print(survey.keys())"
   ]
  },
  {
   "cell_type": "code",
   "execution_count": 89,
   "metadata": {},
   "outputs": [
    {
     "name": "stdout",
     "output_type": "stream",
     "text": [
      "Survey_A\n",
      "{'trace_id': 3, 'receiver': 'R3', 'offset': 200, 'QC_flag': 'BAD'}\n",
      "Survey_B\n",
      "{'trace_id': 6, 'receiver': 'R2', 'offset': 300, 'QC_flag': 'BAD'}\n",
      "Survey_C\n"
     ]
    }
   ],
   "source": [
    "for j in survey.keys():\n",
    "    print(j)\n",
    "    for i in survey[j]:\n",
    "        if i['QC_flag'] == \"BAD\":\n",
    "            print(i)"
   ]
  },
  {
   "cell_type": "code",
   "execution_count": 90,
   "metadata": {},
   "outputs": [
    {
     "name": "stdout",
     "output_type": "stream",
     "text": [
      "jumlah_trace: 7\n"
     ]
    }
   ],
   "source": [
    "jumlah_trace = 0\n",
    "for i in survey.keys():\n",
    "    for j in survey[i]:\n",
    "        jumlah_trace = jumlah_trace + 1\n",
    "print(f\"jumlah_trace: {jumlah_trace}\")"
   ]
  },
  {
   "cell_type": "code",
   "execution_count": 98,
   "metadata": {},
   "outputs": [
    {
     "data": {
      "text/plain": [
       "dict_items([('Survey_A', [{'trace_id': 1, 'receiver': 'R1', 'offset': 100, 'QC_flag': 'OK'}, {'trace_id': 2, 'receiver': 'R2', 'offset': 150, 'QC_flag': 'OK'}, {'trace_id': 3, 'receiver': 'R3', 'offset': 200, 'QC_flag': 'BAD'}]), ('Survey_B', [{'trace_id': 4, 'receiver': 'R1', 'offset': 120, 'QC_flag': 'OK'}, {'trace_id': 5, 'receiver': 'R4', 'offset': 250, 'QC_flag': 'OK'}, {'trace_id': 6, 'receiver': 'R2', 'offset': 300, 'QC_flag': 'BAD'}]), ('Survey_C', [{'trace_id': 7, 'receiver': 'R5', 'offset': 180, 'QC_flag': 'OK'}])])"
      ]
     },
     "execution_count": 98,
     "metadata": {},
     "output_type": "execute_result"
    }
   ],
   "source": [
    "survey.items()"
   ]
  },
  {
   "cell_type": "code",
   "execution_count": 92,
   "metadata": {},
   "outputs": [
    {
     "data": {
      "text/plain": [
       "[{'trace_id': 1, 'receiver': 'R1', 'offset': 100, 'QC_flag': 'OK'},\n",
       " {'trace_id': 2, 'receiver': 'R2', 'offset': 150, 'QC_flag': 'OK'},\n",
       " {'trace_id': 3, 'receiver': 'R3', 'offset': 200, 'QC_flag': 'BAD'}]"
      ]
     },
     "execution_count": 92,
     "metadata": {},
     "output_type": "execute_result"
    }
   ],
   "source": [
    "survey[\"Survey_A\"]"
   ]
  },
  {
   "cell_type": "code",
   "execution_count": 93,
   "metadata": {},
   "outputs": [
    {
     "data": {
      "text/plain": [
       "[{'trace_id': 4, 'receiver': 'R1', 'offset': 120, 'QC_flag': 'OK'},\n",
       " {'trace_id': 5, 'receiver': 'R4', 'offset': 250, 'QC_flag': 'OK'},\n",
       " {'trace_id': 6, 'receiver': 'R2', 'offset': 300, 'QC_flag': 'BAD'}]"
      ]
     },
     "execution_count": 93,
     "metadata": {},
     "output_type": "execute_result"
    }
   ],
   "source": [
    "survey[\"Survey_B\"]"
   ]
  },
  {
   "cell_type": "code",
   "execution_count": 94,
   "metadata": {},
   "outputs": [
    {
     "data": {
      "text/plain": [
       "[{'trace_id': 7, 'receiver': 'R5', 'offset': 180, 'QC_flag': 'OK'}]"
      ]
     },
     "execution_count": 94,
     "metadata": {},
     "output_type": "execute_result"
    }
   ],
   "source": [
    "survey[\"Survey_C\"]\n"
   ]
  },
  {
   "cell_type": "code",
   "execution_count": 105,
   "metadata": {},
   "outputs": [
    {
     "name": "stdout",
     "output_type": "stream",
     "text": [
      "{'Survey_A': 3, 'Survey_B': 3, 'Survey_C': 1}\n"
     ]
    }
   ],
   "source": [
    "jumlah_trace = {}\n",
    "for i in survey.keys():\n",
    "    jumlah_trace[i] = len(survey[i])\n",
    "print(jumlah_trace)"
   ]
  },
  {
   "cell_type": "code",
   "execution_count": 104,
   "metadata": {},
   "outputs": [
    {
     "data": {
      "text/plain": [
       "1"
      ]
     },
     "execution_count": 104,
     "metadata": {},
     "output_type": "execute_result"
    }
   ],
   "source": [
    "min(jumlah_trace)"
   ]
  },
  {
   "cell_type": "code",
   "execution_count": 107,
   "metadata": {},
   "outputs": [
    {
     "data": {
      "text/plain": [
       "25.098181818181818"
      ]
     },
     "execution_count": 107,
     "metadata": {},
     "output_type": "execute_result"
    }
   ],
   "source": [
    "(-2.9)*((5.6*3.4)/(3.4-5.6))"
   ]
  },
  {
   "cell_type": "code",
   "execution_count": 114,
   "metadata": {},
   "outputs": [
    {
     "name": "stdout",
     "output_type": "stream",
     "text": [
      "0.9709505944546686\n"
     ]
    }
   ],
   "source": [
    "import math\n",
    "\n",
    "# Jumlah data\n",
    "total = 5\n",
    "yes = 3\n",
    "no = 2\n",
    "\n",
    "# Probabilitas\n",
    "p_yes = yes / total\n",
    "p_no = no / total\n",
    "\n",
    "# Entropy\n",
    "entropy = -(p_yes * math.log2(p_yes) + p_no * math.log2(p_no))\n",
    "print(entropy)\n"
   ]
  },
  {
   "cell_type": "code",
   "execution_count": 112,
   "metadata": {},
   "outputs": [
    {
     "data": {
      "text/plain": [
       "-0.6374299206152917"
      ]
     },
     "execution_count": 112,
     "metadata": {},
     "output_type": "execute_result"
    }
   ],
   "source": [
    "np.log(9/14) / np.log(2)"
   ]
  },
  {
   "cell_type": "code",
   "execution_count": null,
   "metadata": {},
   "outputs": [],
   "source": [
    "-(2/5)*np.log2(2/5) - (2/5)*np.log2(5/14)"
   ]
  }
 ],
 "metadata": {
  "kernelspec": {
   "display_name": "Python 3",
   "language": "python",
   "name": "python3"
  },
  "language_info": {
   "codemirror_mode": {
    "name": "ipython",
    "version": 3
   },
   "file_extension": ".py",
   "mimetype": "text/x-python",
   "name": "python",
   "nbconvert_exporter": "python",
   "pygments_lexer": "ipython3",
   "version": "3.11.10"
  }
 },
 "nbformat": 4,
 "nbformat_minor": 2
}
